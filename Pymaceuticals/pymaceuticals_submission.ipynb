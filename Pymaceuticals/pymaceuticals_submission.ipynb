{
 "cells": [
  {
   "cell_type": "markdown",
   "metadata": {},
   "source": [
    "## Observations and Insights "
   ]
  },
  {
   "cell_type": "markdown",
   "metadata": {},
   "source": [
    "* There is a strong positive correlation between mouse weight and final tumor volume (at least for mice in the Capomulin regimen).\n",
    "* There was far less variation in the tumor volumes of mice treated in the Capomulin and Ramicane regimens than any of the other other regimens.\n",
    "* The trials involed an almost equal distribution of male and female mice."
   ]
  },
  {
   "cell_type": "code",
   "execution_count": 1,
   "metadata": {},
   "outputs": [
    {
     "name": "stdout",
     "output_type": "stream",
     "text": [
      "Data for Mouse ID: g989 is to be removed\n"
     ]
    }
   ],
   "source": [
    "# Dependencies and Setup\n",
    "import matplotlib.pyplot as plt\n",
    "import pandas as pd\n",
    "import scipy.stats as st\n",
    "import numpy as np\n",
    "from scipy.stats import sem\n",
    "\n",
    "# Study data files\n",
    "mouse_metadata_path = \"data/Mouse_metadata.csv\"\n",
    "study_results_path = \"data/Study_results.csv\"\n",
    "\n",
    "# Read the mouse data and the study results\n",
    "mouse_metadata = pd.read_csv(mouse_metadata_path)\n",
    "study_results = pd.read_csv(study_results_path)\n",
    "\n",
    "#Find Mouse ID(s) that contain duplicate Timepoint values\n",
    "duplicate_finder = study_results.groupby([\"Mouse ID\",\"Timepoint\"]).count()\n",
    "found_mouse = duplicate_finder.loc[duplicate_finder[\"Tumor Volume (mm3)\"] >1]\n",
    "mouse_to_delete = found_mouse.index[0][0]\n",
    "print(f\"Data for Mouse ID: {mouse_to_delete} is to be removed\")"
   ]
  },
  {
   "cell_type": "code",
   "execution_count": 2,
   "metadata": {},
   "outputs": [],
   "source": [
    "# Create a clean DataFrame by dropping the duplicate mouse by its ID.\n",
    "cleaned_results = study_results.set_index(\"Mouse ID\")\n",
    "cleaned_results = cleaned_results.drop(\"g989\",axis=0)\n",
    "\n",
    "merged_data = pd.merge(cleaned_results,mouse_metadata,on=\"Mouse ID\",how=\"left\")"
   ]
  },
  {
   "cell_type": "code",
   "execution_count": 3,
   "metadata": {},
   "outputs": [
    {
     "data": {
      "text/html": [
       "<div>\n",
       "<style scoped>\n",
       "    .dataframe tbody tr th:only-of-type {\n",
       "        vertical-align: middle;\n",
       "    }\n",
       "\n",
       "    .dataframe tbody tr th {\n",
       "        vertical-align: top;\n",
       "    }\n",
       "\n",
       "    .dataframe thead th {\n",
       "        text-align: right;\n",
       "    }\n",
       "</style>\n",
       "<table border=\"1\" class=\"dataframe\">\n",
       "  <thead>\n",
       "    <tr style=\"text-align: right;\">\n",
       "      <th></th>\n",
       "      <th>Mouse ID</th>\n",
       "      <th>Timepoint</th>\n",
       "      <th>Tumor Volume (mm3)</th>\n",
       "      <th>Metastatic Sites</th>\n",
       "      <th>Drug Regimen</th>\n",
       "      <th>Sex</th>\n",
       "      <th>Age_months</th>\n",
       "      <th>Weight (g)</th>\n",
       "    </tr>\n",
       "  </thead>\n",
       "  <tbody>\n",
       "    <tr>\n",
       "      <th>0</th>\n",
       "      <td>b128</td>\n",
       "      <td>0</td>\n",
       "      <td>45.0</td>\n",
       "      <td>0</td>\n",
       "      <td>Capomulin</td>\n",
       "      <td>Female</td>\n",
       "      <td>9</td>\n",
       "      <td>22</td>\n",
       "    </tr>\n",
       "    <tr>\n",
       "      <th>1</th>\n",
       "      <td>f932</td>\n",
       "      <td>0</td>\n",
       "      <td>45.0</td>\n",
       "      <td>0</td>\n",
       "      <td>Ketapril</td>\n",
       "      <td>Male</td>\n",
       "      <td>15</td>\n",
       "      <td>29</td>\n",
       "    </tr>\n",
       "    <tr>\n",
       "      <th>2</th>\n",
       "      <td>g107</td>\n",
       "      <td>0</td>\n",
       "      <td>45.0</td>\n",
       "      <td>0</td>\n",
       "      <td>Ketapril</td>\n",
       "      <td>Female</td>\n",
       "      <td>2</td>\n",
       "      <td>29</td>\n",
       "    </tr>\n",
       "    <tr>\n",
       "      <th>3</th>\n",
       "      <td>a457</td>\n",
       "      <td>0</td>\n",
       "      <td>45.0</td>\n",
       "      <td>0</td>\n",
       "      <td>Ketapril</td>\n",
       "      <td>Female</td>\n",
       "      <td>11</td>\n",
       "      <td>30</td>\n",
       "    </tr>\n",
       "    <tr>\n",
       "      <th>4</th>\n",
       "      <td>c819</td>\n",
       "      <td>0</td>\n",
       "      <td>45.0</td>\n",
       "      <td>0</td>\n",
       "      <td>Ketapril</td>\n",
       "      <td>Male</td>\n",
       "      <td>21</td>\n",
       "      <td>25</td>\n",
       "    </tr>\n",
       "  </tbody>\n",
       "</table>\n",
       "</div>"
      ],
      "text/plain": [
       "  Mouse ID  Timepoint  Tumor Volume (mm3)  Metastatic Sites Drug Regimen  \\\n",
       "0     b128          0                45.0                 0    Capomulin   \n",
       "1     f932          0                45.0                 0     Ketapril   \n",
       "2     g107          0                45.0                 0     Ketapril   \n",
       "3     a457          0                45.0                 0     Ketapril   \n",
       "4     c819          0                45.0                 0     Ketapril   \n",
       "\n",
       "      Sex  Age_months  Weight (g)  \n",
       "0  Female           9          22  \n",
       "1    Male          15          29  \n",
       "2  Female           2          29  \n",
       "3  Female          11          30  \n",
       "4    Male          21          25  "
      ]
     },
     "execution_count": 3,
     "metadata": {},
     "output_type": "execute_result"
    }
   ],
   "source": [
    "# Display the data table for preview\n",
    "merged_data.head()"
   ]
  },
  {
   "cell_type": "markdown",
   "metadata": {},
   "source": [
    "## Summary Statistics"
   ]
  },
  {
   "cell_type": "code",
   "execution_count": 4,
   "metadata": {},
   "outputs": [
    {
     "data": {
      "text/html": [
       "<div>\n",
       "<style scoped>\n",
       "    .dataframe tbody tr th:only-of-type {\n",
       "        vertical-align: middle;\n",
       "    }\n",
       "\n",
       "    .dataframe tbody tr th {\n",
       "        vertical-align: top;\n",
       "    }\n",
       "\n",
       "    .dataframe thead th {\n",
       "        text-align: right;\n",
       "    }\n",
       "</style>\n",
       "<table border=\"1\" class=\"dataframe\">\n",
       "  <thead>\n",
       "    <tr style=\"text-align: right;\">\n",
       "      <th></th>\n",
       "      <th>Drug Regimen</th>\n",
       "      <th>Mean Tumor Volume (mm3)</th>\n",
       "      <th>Median Tumor Volume (mm3)</th>\n",
       "      <th>Tumor Volume (mm3) Variance</th>\n",
       "      <th>Tumor Volume (mm3) St.Dev.</th>\n",
       "      <th>Tumor Volume (mm3) SEM</th>\n",
       "    </tr>\n",
       "  </thead>\n",
       "  <tbody>\n",
       "    <tr>\n",
       "      <th>0</th>\n",
       "      <td>Capomulin</td>\n",
       "      <td>40.68</td>\n",
       "      <td>41.56</td>\n",
       "      <td>24.84</td>\n",
       "      <td>4.98</td>\n",
       "      <td>0.33</td>\n",
       "    </tr>\n",
       "    <tr>\n",
       "      <th>9</th>\n",
       "      <td>Ceftamin</td>\n",
       "      <td>52.59</td>\n",
       "      <td>51.78</td>\n",
       "      <td>39.07</td>\n",
       "      <td>6.25</td>\n",
       "      <td>0.47</td>\n",
       "    </tr>\n",
       "    <tr>\n",
       "      <th>3</th>\n",
       "      <td>Infubinol</td>\n",
       "      <td>52.88</td>\n",
       "      <td>51.82</td>\n",
       "      <td>42.89</td>\n",
       "      <td>6.55</td>\n",
       "      <td>0.49</td>\n",
       "    </tr>\n",
       "    <tr>\n",
       "      <th>1</th>\n",
       "      <td>Ketapril</td>\n",
       "      <td>55.24</td>\n",
       "      <td>53.70</td>\n",
       "      <td>68.19</td>\n",
       "      <td>8.26</td>\n",
       "      <td>0.60</td>\n",
       "    </tr>\n",
       "    <tr>\n",
       "      <th>2</th>\n",
       "      <td>Naftisol</td>\n",
       "      <td>54.33</td>\n",
       "      <td>52.51</td>\n",
       "      <td>65.82</td>\n",
       "      <td>8.11</td>\n",
       "      <td>0.60</td>\n",
       "    </tr>\n",
       "    <tr>\n",
       "      <th>8</th>\n",
       "      <td>Placebo</td>\n",
       "      <td>54.03</td>\n",
       "      <td>52.29</td>\n",
       "      <td>60.83</td>\n",
       "      <td>7.80</td>\n",
       "      <td>0.58</td>\n",
       "    </tr>\n",
       "    <tr>\n",
       "      <th>7</th>\n",
       "      <td>Propriva</td>\n",
       "      <td>52.32</td>\n",
       "      <td>50.45</td>\n",
       "      <td>43.56</td>\n",
       "      <td>6.60</td>\n",
       "      <td>0.54</td>\n",
       "    </tr>\n",
       "    <tr>\n",
       "      <th>5</th>\n",
       "      <td>Ramicane</td>\n",
       "      <td>40.22</td>\n",
       "      <td>40.67</td>\n",
       "      <td>23.38</td>\n",
       "      <td>4.84</td>\n",
       "      <td>0.32</td>\n",
       "    </tr>\n",
       "    <tr>\n",
       "      <th>4</th>\n",
       "      <td>Stelasyn</td>\n",
       "      <td>54.23</td>\n",
       "      <td>52.43</td>\n",
       "      <td>59.12</td>\n",
       "      <td>7.69</td>\n",
       "      <td>0.57</td>\n",
       "    </tr>\n",
       "    <tr>\n",
       "      <th>6</th>\n",
       "      <td>Zoniferol</td>\n",
       "      <td>53.24</td>\n",
       "      <td>51.82</td>\n",
       "      <td>48.27</td>\n",
       "      <td>6.95</td>\n",
       "      <td>0.52</td>\n",
       "    </tr>\n",
       "  </tbody>\n",
       "</table>\n",
       "</div>"
      ],
      "text/plain": [
       "  Drug Regimen  Mean Tumor Volume (mm3)  Median Tumor Volume (mm3)  \\\n",
       "0    Capomulin                    40.68                      41.56   \n",
       "9     Ceftamin                    52.59                      51.78   \n",
       "3    Infubinol                    52.88                      51.82   \n",
       "1     Ketapril                    55.24                      53.70   \n",
       "2     Naftisol                    54.33                      52.51   \n",
       "8      Placebo                    54.03                      52.29   \n",
       "7     Propriva                    52.32                      50.45   \n",
       "5     Ramicane                    40.22                      40.67   \n",
       "4     Stelasyn                    54.23                      52.43   \n",
       "6    Zoniferol                    53.24                      51.82   \n",
       "\n",
       "   Tumor Volume (mm3) Variance  Tumor Volume (mm3) St.Dev.  \\\n",
       "0                        24.84                        4.98   \n",
       "9                        39.07                        6.25   \n",
       "3                        42.89                        6.55   \n",
       "1                        68.19                        8.26   \n",
       "2                        65.82                        8.11   \n",
       "8                        60.83                        7.80   \n",
       "7                        43.56                        6.60   \n",
       "5                        23.38                        4.84   \n",
       "4                        59.12                        7.69   \n",
       "6                        48.27                        6.95   \n",
       "\n",
       "   Tumor Volume (mm3) SEM  \n",
       "0                    0.33  \n",
       "9                    0.47  \n",
       "3                    0.49  \n",
       "1                    0.60  \n",
       "2                    0.60  \n",
       "8                    0.58  \n",
       "7                    0.54  \n",
       "5                    0.32  \n",
       "4                    0.57  \n",
       "6                    0.52  "
      ]
     },
     "execution_count": 4,
     "metadata": {},
     "output_type": "execute_result"
    }
   ],
   "source": [
    "# Generate a summary statistics table of mean, median, variance, standard deviation, and SEM of the tumor volume for each regimen\n",
    "# This method is the most straighforward, creating multiple series and putting them all together at the end.\n",
    "\n",
    "regimens = merged_data[\"Drug Regimen\"].unique()\n",
    "mean_list = []\n",
    "med_list = []\n",
    "var_list = []\n",
    "std_list = []\n",
    "sem_list = []\n",
    "\n",
    "drug_index = merged_data.set_index(\"Drug Regimen\")\n",
    "\n",
    "for regimen in regimens:\n",
    "    values = drug_index.loc[regimen,\"Tumor Volume (mm3)\"]\n",
    "    mean_list.append(round(np.mean(values),2))\n",
    "    med_list.append(round(np.median(values),2))\n",
    "    var_list.append(round(np.var(values),2))\n",
    "    std_list.append(round(np.std(values),2))\n",
    "    sem_list.append(round(sem(values),2))\n",
    "\n",
    "summarytable = pd.DataFrame({\"Drug Regimen\":regimens,\n",
    "                        \"Mean Tumor Volume (mm3)\":mean_list,\n",
    "                       \"Median Tumor Volume (mm3)\":med_list,\n",
    "                       \"Tumor Volume (mm3) Variance\":var_list,\n",
    "                       \"Tumor Volume (mm3) St.Dev.\":std_list,\n",
    "                       \"Tumor Volume (mm3) SEM\":sem_list\n",
    "                       })\n",
    "\n",
    "summarytable.sort_values(\"Drug Regimen\")"
   ]
  },
  {
   "cell_type": "code",
   "execution_count": 5,
   "metadata": {},
   "outputs": [
    {
     "data": {
      "text/html": [
       "<div>\n",
       "<style scoped>\n",
       "    .dataframe tbody tr th:only-of-type {\n",
       "        vertical-align: middle;\n",
       "    }\n",
       "\n",
       "    .dataframe tbody tr th {\n",
       "        vertical-align: top;\n",
       "    }\n",
       "\n",
       "    .dataframe thead th {\n",
       "        text-align: right;\n",
       "    }\n",
       "</style>\n",
       "<table border=\"1\" class=\"dataframe\">\n",
       "  <thead>\n",
       "    <tr style=\"text-align: right;\">\n",
       "      <th></th>\n",
       "      <th>Mean Tumor Volume (mm3)</th>\n",
       "      <th>Median Tumor Volume (mm3)</th>\n",
       "      <th>Tumor Volume Variance</th>\n",
       "      <th>Tumor Volume St Dev</th>\n",
       "      <th>Tumor Volume SEM</th>\n",
       "    </tr>\n",
       "    <tr>\n",
       "      <th>Drug Regimen</th>\n",
       "      <th></th>\n",
       "      <th></th>\n",
       "      <th></th>\n",
       "      <th></th>\n",
       "      <th></th>\n",
       "    </tr>\n",
       "  </thead>\n",
       "  <tbody>\n",
       "    <tr>\n",
       "      <th>Capomulin</th>\n",
       "      <td>40.68</td>\n",
       "      <td>41.56</td>\n",
       "      <td>24.95</td>\n",
       "      <td>4.99</td>\n",
       "      <td>0.33</td>\n",
       "    </tr>\n",
       "    <tr>\n",
       "      <th>Ceftamin</th>\n",
       "      <td>52.59</td>\n",
       "      <td>51.78</td>\n",
       "      <td>39.29</td>\n",
       "      <td>6.27</td>\n",
       "      <td>0.47</td>\n",
       "    </tr>\n",
       "    <tr>\n",
       "      <th>Infubinol</th>\n",
       "      <td>52.88</td>\n",
       "      <td>51.82</td>\n",
       "      <td>43.13</td>\n",
       "      <td>6.57</td>\n",
       "      <td>0.49</td>\n",
       "    </tr>\n",
       "    <tr>\n",
       "      <th>Ketapril</th>\n",
       "      <td>55.24</td>\n",
       "      <td>53.70</td>\n",
       "      <td>68.55</td>\n",
       "      <td>8.28</td>\n",
       "      <td>0.60</td>\n",
       "    </tr>\n",
       "    <tr>\n",
       "      <th>Naftisol</th>\n",
       "      <td>54.33</td>\n",
       "      <td>52.51</td>\n",
       "      <td>66.17</td>\n",
       "      <td>8.13</td>\n",
       "      <td>0.60</td>\n",
       "    </tr>\n",
       "    <tr>\n",
       "      <th>Placebo</th>\n",
       "      <td>54.03</td>\n",
       "      <td>52.29</td>\n",
       "      <td>61.17</td>\n",
       "      <td>7.82</td>\n",
       "      <td>0.58</td>\n",
       "    </tr>\n",
       "    <tr>\n",
       "      <th>Propriva</th>\n",
       "      <td>52.32</td>\n",
       "      <td>50.45</td>\n",
       "      <td>43.85</td>\n",
       "      <td>6.62</td>\n",
       "      <td>0.54</td>\n",
       "    </tr>\n",
       "    <tr>\n",
       "      <th>Ramicane</th>\n",
       "      <td>40.22</td>\n",
       "      <td>40.67</td>\n",
       "      <td>23.49</td>\n",
       "      <td>4.85</td>\n",
       "      <td>0.32</td>\n",
       "    </tr>\n",
       "    <tr>\n",
       "      <th>Stelasyn</th>\n",
       "      <td>54.23</td>\n",
       "      <td>52.43</td>\n",
       "      <td>59.45</td>\n",
       "      <td>7.71</td>\n",
       "      <td>0.57</td>\n",
       "    </tr>\n",
       "    <tr>\n",
       "      <th>Zoniferol</th>\n",
       "      <td>53.24</td>\n",
       "      <td>51.82</td>\n",
       "      <td>48.53</td>\n",
       "      <td>6.97</td>\n",
       "      <td>0.52</td>\n",
       "    </tr>\n",
       "  </tbody>\n",
       "</table>\n",
       "</div>"
      ],
      "text/plain": [
       "              Mean Tumor Volume (mm3)  Median Tumor Volume (mm3)  \\\n",
       "Drug Regimen                                                       \n",
       "Capomulin                       40.68                      41.56   \n",
       "Ceftamin                        52.59                      51.78   \n",
       "Infubinol                       52.88                      51.82   \n",
       "Ketapril                        55.24                      53.70   \n",
       "Naftisol                        54.33                      52.51   \n",
       "Placebo                         54.03                      52.29   \n",
       "Propriva                        52.32                      50.45   \n",
       "Ramicane                        40.22                      40.67   \n",
       "Stelasyn                        54.23                      52.43   \n",
       "Zoniferol                       53.24                      51.82   \n",
       "\n",
       "              Tumor Volume Variance  Tumor Volume St Dev  Tumor Volume SEM  \n",
       "Drug Regimen                                                                \n",
       "Capomulin                     24.95                 4.99              0.33  \n",
       "Ceftamin                      39.29                 6.27              0.47  \n",
       "Infubinol                     43.13                 6.57              0.49  \n",
       "Ketapril                      68.55                 8.28              0.60  \n",
       "Naftisol                      66.17                 8.13              0.60  \n",
       "Placebo                       61.17                 7.82              0.58  \n",
       "Propriva                      43.85                 6.62              0.54  \n",
       "Ramicane                      23.49                 4.85              0.32  \n",
       "Stelasyn                      59.45                 7.71              0.57  \n",
       "Zoniferol                     48.53                 6.97              0.52  "
      ]
     },
     "execution_count": 5,
     "metadata": {},
     "output_type": "execute_result"
    }
   ],
   "source": [
    "# Generate a summary statistics table of mean, median, variance, standard deviation, and SEM of the tumor volume for each regimen\n",
    "# This method produces everything in a single groupby function\n",
    "\n",
    "data_grp = merged_data.groupby(\"Drug Regimen\")\n",
    "summary_stats =pd.DataFrame({\"Mean Tumor Volume (mm3)\":round(data_grp[\"Tumor Volume (mm3)\"].mean(),2),\n",
    "                            \"Median Tumor Volume (mm3)\":round(data_grp[\"Tumor Volume (mm3)\"].median(),2),\n",
    "                            \"Tumor Volume Variance\":round(data_grp[\"Tumor Volume (mm3)\"].var(),2),\n",
    "                            \"Tumor Volume St Dev\":round(data_grp[\"Tumor Volume (mm3)\"].std(),2),\n",
    "                            \"Tumor Volume SEM\":round(data_grp[\"Tumor Volume (mm3)\"].sem(),2)\n",
    "                            })\n",
    "\n",
    "summary_stats.sort_values(\"Drug Regimen\")"
   ]
  },
  {
   "cell_type": "markdown",
   "metadata": {},
   "source": [
    "## Bar and Pie Charts"
   ]
  },
  {
   "cell_type": "code",
   "execution_count": 6,
   "metadata": {},
   "outputs": [
    {
     "data": {
      "text/plain": [
       "<matplotlib.axes._subplots.AxesSubplot at 0x29aec441348>"
      ]
     },
     "execution_count": 6,
     "metadata": {},
     "output_type": "execute_result"
    },
    {
     "data": {
      "image/png": "[encoded data removed]",
      "text/plain": [
       "<Figure size 576x216 with 1 Axes>"
      ]
     },
     "metadata": {
      "needs_background": "light"
     },
     "output_type": "display_data"
    }
   ],
   "source": [
    "# Generate a bar plot showing the total number of mice for each treatment throughout the course of the study using pandas. \n",
    "x_axis = regimens\n",
    "mice = [len(drug_index.loc[drug]) for drug in regimens]\n",
    "\n",
    "drug_index[\"Mouse ID\"].groupby(\"Drug Regimen\").count().plot(kind=\"bar\",legend=False,figsize=(8,3),title=\"Mice per Trial\",\n",
    "                                                xlim=(-.5 ,len(x_axis)-0.5),ylim=(0,max(mice)+10),y=\"Mice in Trial\")"
   ]
  },
  {
   "cell_type": "code",
   "execution_count": 7,
   "metadata": {},
   "outputs": [
    {
     "data": {
      "image/png": "[encoded data removed]",
      "text/plain": [
       "<Figure size 576x216 with 1 Axes>"
      ]
     },
     "metadata": {
      "needs_background": "light"
     },
     "output_type": "display_data"
    }
   ],
   "source": [
    "# Generate a bar plot showing the total number of mice for each treatment throughout the course of the study using pyplot.\n",
    "\n",
    "mice = [len(drug_index.loc[drug]) for drug in regimens]\n",
    "\n",
    "plt.figure(figsize=[8,3])\n",
    "plt.bar(x_axis,mice,width=.5,align=\"center\")\n",
    "plt.tight_layout()\n",
    "plt.xticks(rotation=\"vertical\")\n",
    "plt.xlabel(\"Drug Regimen\")\n",
    "plt.ylabel(\"Mice in Trial\")\n",
    "plt.xlim(-.5 , len(x_axis)-0.5)\n",
    "plt.ylim(0,max(mice)+10)\n",
    "plt.title(\"Mice per Drug Regimen Trial\")\n",
    "plt.show()"
   ]
  },
  {
   "cell_type": "code",
   "execution_count": 8,
   "metadata": {},
   "outputs": [
    {
     "data": {
      "text/plain": [
       "<matplotlib.axes._subplots.AxesSubplot at 0x29aecc62708>"
      ]
     },
     "execution_count": 8,
     "metadata": {},
     "output_type": "execute_result"
    },
    {
     "data": {
      "image/png": "[encoded data removed]",
      "text/plain": [
       "<Figure size 360x360 with 1 Axes>"
      ]
     },
     "metadata": {},
     "output_type": "display_data"
    }
   ],
   "source": [
    "# Generate a pie plot showing the distribution of female versus male mice using pandas\n",
    "pie_data = merged_data.groupby(\"Sex\").count()\n",
    "\n",
    "pie_data.plot(y=\"Mouse ID\",kind=\"pie\",title=\"Mouse Gender Distribution\",legend=False,figsize=(5,5),autopct=\"%1.1f%%\")\n"
   ]
  },
  {
   "cell_type": "code",
   "execution_count": 9,
   "metadata": {},
   "outputs": [
    {
     "data": {
      "image/png": "[encoded data removed]",
      "text/plain": [
       "<Figure size 360x360 with 1 Axes>"
      ]
     },
     "metadata": {},
     "output_type": "display_data"
    }
   ],
   "source": [
    "# Generate a pie plot showing the distribution of female versus male mice using pyplot\n",
    "gender = merged_data.groupby(\"Sex\")\n",
    "counts = gender[\"Mouse ID\"].count()\n",
    "\n",
    "plt.figure(figsize=[5,5])\n",
    "plt.pie(counts,labels=[\"Female\",\"Male\"],autopct=\"%1.1f%%\")\n",
    "plt.title(\"Mouse Gender Distribution\")\n",
    "plt.show()\n"
   ]
  },
  {
   "cell_type": "markdown",
   "metadata": {},
   "source": [
    "## Quartiles, Outliers and Boxplots"
   ]
  },
  {
   "cell_type": "code",
   "execution_count": 10,
   "metadata": {},
   "outputs": [
    {
     "data": {
      "text/html": [
       "<div>\n",
       "<style scoped>\n",
       "    .dataframe tbody tr th:only-of-type {\n",
       "        vertical-align: middle;\n",
       "    }\n",
       "\n",
       "    .dataframe tbody tr th {\n",
       "        vertical-align: top;\n",
       "    }\n",
       "\n",
       "    .dataframe thead th {\n",
       "        text-align: right;\n",
       "    }\n",
       "</style>\n",
       "<table border=\"1\" class=\"dataframe\">\n",
       "  <thead>\n",
       "    <tr style=\"text-align: right;\">\n",
       "      <th></th>\n",
       "      <th>Mouse ID</th>\n",
       "      <th>Final Volume</th>\n",
       "      <th>Drug</th>\n",
       "    </tr>\n",
       "  </thead>\n",
       "  <tbody>\n",
       "    <tr>\n",
       "      <th>0</th>\n",
       "      <td>b128</td>\n",
       "      <td>38.982878</td>\n",
       "      <td>Capomulin</td>\n",
       "    </tr>\n",
       "    <tr>\n",
       "      <th>1</th>\n",
       "      <td>c326</td>\n",
       "      <td>36.321346</td>\n",
       "      <td>Infubinol</td>\n",
       "    </tr>\n",
       "    <tr>\n",
       "      <th>2</th>\n",
       "      <td>c139</td>\n",
       "      <td>72.226731</td>\n",
       "      <td>Infubinol</td>\n",
       "    </tr>\n",
       "    <tr>\n",
       "      <th>3</th>\n",
       "      <td>v339</td>\n",
       "      <td>46.250112</td>\n",
       "      <td>Infubinol</td>\n",
       "    </tr>\n",
       "    <tr>\n",
       "      <th>4</th>\n",
       "      <td>a577</td>\n",
       "      <td>57.031862</td>\n",
       "      <td>Infubinol</td>\n",
       "    </tr>\n",
       "    <tr>\n",
       "      <th>...</th>\n",
       "      <td>...</td>\n",
       "      <td>...</td>\n",
       "      <td>...</td>\n",
       "    </tr>\n",
       "    <tr>\n",
       "      <th>95</th>\n",
       "      <td>t565</td>\n",
       "      <td>34.455298</td>\n",
       "      <td>Capomulin</td>\n",
       "    </tr>\n",
       "    <tr>\n",
       "      <th>96</th>\n",
       "      <td>i557</td>\n",
       "      <td>47.685963</td>\n",
       "      <td>Capomulin</td>\n",
       "    </tr>\n",
       "    <tr>\n",
       "      <th>97</th>\n",
       "      <td>m957</td>\n",
       "      <td>33.329098</td>\n",
       "      <td>Capomulin</td>\n",
       "    </tr>\n",
       "    <tr>\n",
       "      <th>98</th>\n",
       "      <td>f966</td>\n",
       "      <td>30.485985</td>\n",
       "      <td>Capomulin</td>\n",
       "    </tr>\n",
       "    <tr>\n",
       "      <th>99</th>\n",
       "      <td>m601</td>\n",
       "      <td>28.430964</td>\n",
       "      <td>Capomulin</td>\n",
       "    </tr>\n",
       "  </tbody>\n",
       "</table>\n",
       "<p>100 rows × 3 columns</p>\n",
       "</div>"
      ],
      "text/plain": [
       "   Mouse ID  Final Volume       Drug\n",
       "0      b128     38.982878  Capomulin\n",
       "1      c326     36.321346  Infubinol\n",
       "2      c139     72.226731  Infubinol\n",
       "3      v339     46.250112  Infubinol\n",
       "4      a577     57.031862  Infubinol\n",
       "..      ...           ...        ...\n",
       "95     t565     34.455298  Capomulin\n",
       "96     i557     47.685963  Capomulin\n",
       "97     m957     33.329098  Capomulin\n",
       "98     f966     30.485985  Capomulin\n",
       "99     m601     28.430964  Capomulin\n",
       "\n",
       "[100 rows x 3 columns]"
      ]
     },
     "execution_count": 10,
     "metadata": {},
     "output_type": "execute_result"
    }
   ],
   "source": [
    "# Calculate the final tumor volume of each mouse across four of the treatment regimens:  \n",
    "# Capomulin, Ramicane, Infubinol, and Ceftamin\n",
    "\n",
    "final_vol = merged_data.loc[(merged_data[\"Drug Regimen\"] == \"Capomulin\") |\n",
    "                           (merged_data[\"Drug Regimen\"] == \"Ramicane\") |\n",
    "                           (merged_data[\"Drug Regimen\"] == \"Infubinol\") |\n",
    "                           (merged_data[\"Drug Regimen\"] == \"Ceftamin\"),:]\n",
    "\n",
    "mouse_list=final_vol[\"Mouse ID\"].unique()\n",
    "drug_list = [\"Capomulin\", \"Ramicane\", \"Infubinol\", \"Ceftamin\"]\n",
    "final_volumes = []\n",
    "treatments = []\n",
    "\n",
    "for M in mouse_list:\n",
    "    mouse_df = final_vol.loc[final_vol[\"Mouse ID\"] == M, :]\n",
    "    final_TP = max(mouse_df[\"Timepoint\"])\n",
    "    final_vol_df = mouse_df[\"Tumor Volume (mm3)\"].loc[mouse_df[\"Timepoint\"] == final_TP]\n",
    "    final_vol_value = final_vol_df.iloc[0]\n",
    "    final_volumes.append(final_vol_value)\n",
    "    treatments.append(mouse_df.iloc[0,4])\n",
    "    \n",
    "volume_data = pd.DataFrame({\"Mouse ID\":mouse_list,\n",
    "                           \"Final Volume\":final_volumes,\n",
    "                           \"Drug\":treatments})\n",
    "\n",
    "volume_data"
   ]
  },
  {
   "cell_type": "code",
   "execution_count": 11,
   "metadata": {},
   "outputs": [
    {
     "name": "stdout",
     "output_type": "stream",
     "text": [
      "Final Tumor Volume (mm3) Outlier Analysis:\n"
     ]
    },
    {
     "data": {
      "text/html": [
       "<div>\n",
       "<style scoped>\n",
       "    .dataframe tbody tr th:only-of-type {\n",
       "        vertical-align: middle;\n",
       "    }\n",
       "\n",
       "    .dataframe tbody tr th {\n",
       "        vertical-align: top;\n",
       "    }\n",
       "\n",
       "    .dataframe thead th {\n",
       "        text-align: right;\n",
       "    }\n",
       "</style>\n",
       "<table border=\"1\" class=\"dataframe\">\n",
       "  <thead>\n",
       "    <tr style=\"text-align: right;\">\n",
       "      <th></th>\n",
       "      <th>Drug Regimen</th>\n",
       "      <th>IQR</th>\n",
       "      <th>Lower Bound</th>\n",
       "      <th>Upper Bound</th>\n",
       "      <th>Outliers</th>\n",
       "    </tr>\n",
       "  </thead>\n",
       "  <tbody>\n",
       "    <tr>\n",
       "      <th>0</th>\n",
       "      <td>Capomulin</td>\n",
       "      <td>7.78</td>\n",
       "      <td>20.71</td>\n",
       "      <td>51.83</td>\n",
       "      <td>NONE</td>\n",
       "    </tr>\n",
       "    <tr>\n",
       "      <th>1</th>\n",
       "      <td>Ramicane</td>\n",
       "      <td>9.10</td>\n",
       "      <td>17.91</td>\n",
       "      <td>54.31</td>\n",
       "      <td>NONE</td>\n",
       "    </tr>\n",
       "    <tr>\n",
       "      <th>2</th>\n",
       "      <td>Infubinol</td>\n",
       "      <td>11.48</td>\n",
       "      <td>36.83</td>\n",
       "      <td>82.75</td>\n",
       "      <td>36.32</td>\n",
       "    </tr>\n",
       "    <tr>\n",
       "      <th>3</th>\n",
       "      <td>Ceftamin</td>\n",
       "      <td>15.58</td>\n",
       "      <td>25.35</td>\n",
       "      <td>87.67</td>\n",
       "      <td>NONE</td>\n",
       "    </tr>\n",
       "  </tbody>\n",
       "</table>\n",
       "</div>"
      ],
      "text/plain": [
       "  Drug Regimen    IQR  Lower Bound  Upper Bound Outliers\n",
       "0    Capomulin   7.78        20.71        51.83     NONE\n",
       "1     Ramicane   9.10        17.91        54.31     NONE\n",
       "2    Infubinol  11.48        36.83        82.75    36.32\n",
       "3     Ceftamin  15.58        25.35        87.67     NONE"
      ]
     },
     "execution_count": 11,
     "metadata": {},
     "output_type": "execute_result"
    }
   ],
   "source": [
    "# Create empty list to fill with tumor vol data (for plotting)\n",
    "\n",
    "IQRs = []\n",
    "LBounds = []\n",
    "UBounds = []\n",
    "all_outliers = []\n",
    "\n",
    "for x in range(len(drug_list)):\n",
    "    loop_data = volume_data.loc[volume_data[\"Drug\"] == drug_list[x]]\n",
    "    quartiles = loop_data[\"Final Volume\"].quantile([.25,.5,.75])\n",
    "    lowerq = quartiles[.25]\n",
    "    upperq = quartiles[.75]\n",
    "    IQR = round(upperq - lowerq,2)\n",
    "    lower_bound = round(lowerq - (1.5*IQR),2)\n",
    "    upper_bound = round(upperq + (1.5*IQR),2)\n",
    "    \n",
    "    IQRs.append(IQR)\n",
    "    LBounds.append(lower_bound)\n",
    "    UBounds.append(upper_bound)\n",
    "    \n",
    "    drug_outliers = []\n",
    "    for value in loop_data[\"Final Volume\"]:\n",
    "        if (value < lower_bound) | (value > upper_bound):\n",
    "            drug_outliers.append(round(value,2))\n",
    "        \n",
    "    if len(drug_outliers) < 1:\n",
    "        drug_outliers.append(\"NONE\")\n",
    "    \n",
    "    all_outliers.append(drug_outliers[0])\n",
    "        \n",
    "OutlierAnalysis = pd.DataFrame({\"Drug Regimen\":drug_list,\n",
    "                                \"IQR\":IQRs,\n",
    "                                \"Lower Bound\":LBounds,\n",
    "                                \"Upper Bound\":UBounds,\n",
    "                                \"Outliers\":all_outliers})   \n",
    "\n",
    "print(f\"Final Tumor Volume (mm3) Outlier Analysis:\")\n",
    "OutlierAnalysis    "
   ]
  },
  {
   "cell_type": "code",
   "execution_count": 12,
   "metadata": {},
   "outputs": [
    {
     "data": {
      "image/png": "[encoded data removed]",
      "text/plain": [
       "<Figure size 432x288 with 1 Axes>"
      ]
     },
     "metadata": {
      "needs_background": "light"
     },
     "output_type": "display_data"
    }
   ],
   "source": [
    "# Generate a box plot of the final tumor volume of each mouse across four regimens of interest\n",
    "\n",
    "CAP_volumes = volume_data.loc[volume_data[\"Drug\"]==\"Capomulin\"]\n",
    "RAM_volumes = volume_data.loc[volume_data[\"Drug\"]==\"Ramicane\"]\n",
    "INF_volumes = volume_data.loc[volume_data[\"Drug\"]==\"Infubinol\"]\n",
    "CEF_volumes = volume_data.loc[volume_data[\"Drug\"]==\"Ceftamin\"]\n",
    "\n",
    "data_list = [CAP_volumes[\"Final Volume\"], RAM_volumes[\"Final Volume\"],\n",
    "             INF_volumes[\"Final Volume\"],CEF_volumes[\"Final Volume\"]]\n",
    "\n",
    "plt.boxplot(data_list,labels=drug_list,flierprops=dict(markerfacecolor=\"RED\",marker=\"^\"))\n",
    "plt.title(\"Final Tumor Volumes\")\n",
    "plt.ylabel(\"Tumor Volume (mm3)\")\n",
    "plt.show()"
   ]
  },
  {
   "cell_type": "markdown",
   "metadata": {},
   "source": [
    "## Line and Scatter Plots"
   ]
  },
  {
   "cell_type": "code",
   "execution_count": 13,
   "metadata": {},
   "outputs": [
    {
     "data": {
      "image/png": "[encoded data removed]",
      "text/plain": [
       "<Figure size 432x288 with 1 Axes>"
      ]
     },
     "metadata": {
      "needs_background": "light"
     },
     "output_type": "display_data"
    }
   ],
   "source": [
    "# Generate a line plot of time point versus tumor volume for a mouse treated with Capomulin\n",
    "selected_data = merged_data.loc[(merged_data[\"Mouse ID\"] == \"b128\")]\n",
    "x_axis = selected_data[\"Timepoint\"]\n",
    "\n",
    "plt.plot(x_axis,selected_data[\"Tumor Volume (mm3)\"])\n",
    "plt.title(\"Tumor Volume Over Time (Mouse ID: b128)\")\n",
    "plt.ylabel(\"Tumor Volume (mm3)\")\n",
    "plt.xlabel(\"Timepoint\")\n",
    "plt.show()"
   ]
  },
  {
   "cell_type": "code",
   "execution_count": 14,
   "metadata": {},
   "outputs": [
    {
     "data": {
      "image/png": "[encoded data removed]",
      "text/plain": [
       "<Figure size 432x288 with 1 Axes>"
      ]
     },
     "metadata": {
      "needs_background": "light"
     },
     "output_type": "display_data"
    }
   ],
   "source": [
    "# Generate a scatter plot of mouse weight versus average tumor volume for the Capomulin regimen\n",
    "CAP_data = merged_data.loc[(merged_data[\"Drug Regimen\"] == \"Capomulin\")]\n",
    "CAP_grp = CAP_data.groupby(\"Weight (g)\")\n",
    "TvsW_df = pd.DataFrame(CAP_grp.mean())\n",
    "\n",
    "plt.scatter(TvsW_df.index,TvsW_df[\"Tumor Volume (mm3)\"])\n",
    "plt.title(\"Mouse Weight vs Tumor Vol (Capomulin)\")\n",
    "plt.ylabel(\"Tumor Volume (mm3)\")\n",
    "plt.xlabel(\"Mouse Weight (g)\")\n",
    "plt.grid(True)\n",
    "plt.show()"
   ]
  },
  {
   "cell_type": "markdown",
   "metadata": {},
   "source": [
    "## Correlation and Regression"
   ]
  },
  {
   "cell_type": "code",
   "execution_count": 15,
   "metadata": {},
   "outputs": [
    {
     "data": {
      "image/png": "[encoded data removed]",
      "text/plain": [
       "<Figure size 432x288 with 1 Axes>"
      ]
     },
     "metadata": {
      "needs_background": "light"
     },
     "output_type": "display_data"
    }
   ],
   "source": [
    "# Calculate the correlation coefficient and linear regression model \n",
    "# for mouse weight and average tumor volume for the Capomulin regimen\n",
    "plt.scatter(TvsW_df.index,TvsW_df[\"Tumor Volume (mm3)\"])\n",
    "\n",
    "(slope,intercept,rvalue,p_value,stderr) = st.linregress(TvsW_df.index,TvsW_df[\"Tumor Volume (mm3)\"])\n",
    "regress_values = (TvsW_df.index)*slope + intercept\n",
    "Reg_eq = f\"y = {round(slope,2)}x + {round(intercept,2)}\"\n",
    "r_sq = f\"r2 Value: {round(rvalue**2,3)}\" \n",
    "\n",
    "plt.plot(TvsW_df.index,regress_values,color=\"r\")\n",
    "plt.title(\"Mouse Weight vs Avg. Tumor Vol (Capomulin)\")\n",
    "plt.ylabel(\"Tumor Volume (mm3)\")\n",
    "plt.xlabel(\"Mouse Weight (g)\")\n",
    "plt.annotate(Reg_eq,(20,37.5),fontsize=15,color=\"red\")\n",
    "plt.annotate(r_sq,(20,36.5),fontsize=15,color=\"red\")\n",
    "plt.grid(True)\n",
    "plt.show()"
   ]
  }
 ],
 "metadata": {
  "anaconda-cloud": {},
  "kernelspec": {
   "display_name": "Python 3",
   "language": "python",
   "name": "python3"
  },
  "language_info": {
   "codemirror_mode": {
    "name": "ipython",
    "version": 3
   },
   "file_extension": ".py",
   "mimetype": "text/x-python",
   "name": "python",
   "nbconvert_exporter": "python",
   "pygments_lexer": "ipython3",
   "version": "3.7.6"
  }
 },
 "nbformat": 4,
 "nbformat_minor": 2
}
